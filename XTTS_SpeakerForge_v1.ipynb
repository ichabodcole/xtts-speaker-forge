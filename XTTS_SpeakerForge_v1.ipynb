{
  "cells": [
    {
      "cell_type": "markdown",
      "metadata": {
        "id": "view-in-github",
        "colab_type": "text"
      },
      "source": [
        "<a href=\"https://colab.research.google.com/github/ichabodcole/xtts-speaker-forge/blob/main/XTTS_SpeakerForge_v1.ipynb\" target=\"_parent\"><img src=\"https://colab.research.google.com/assets/colab-badge.svg\" alt=\"Open In Colab\"/></a>"
      ]
    },
    {
      "cell_type": "markdown",
      "metadata": {
        "id": "TiG_NMRl6ukp"
      },
      "source": [
        "# Welcome to the official _XTTS Speaker Forge Colab_.\n",
        "\n",
        "Run the below code blocks (ideally in order, to avoid issues).\n",
        "If everything goes according to plan you should be able to launch a gradio app that will allow you to ~fullfill your wildest dreams~ do fun stuff with XTTS speaker related things.\n",
        "\n",
        "For  info, bug reports and feature request: https://github.com/ichabodcole/xtts-speaker-forge"
      ]
    },
    {
      "cell_type": "markdown",
      "metadata": {
        "id": "aSntmk36Wi8H"
      },
      "source": [
        "## Step 1: Install Dependency\n",
        "\n",
        "- Import packages used in this colab\n",
        "- Install the required python dependencies"
      ]
    },
    {
      "cell_type": "code",
      "execution_count": null,
      "metadata": {
        "id": "r1lvvOUgWd1W"
      },
      "outputs": [],
      "source": [
        "!rm -rf ./xtts-speaker-forge\n",
        "!git clone https://github.com/ichabodcole/xtts-speaker-forge.git\n",
        "!pip install --use-deprecated=legacy-resolver -q -r ./xtts-speaker-forge/requirements.txt\n",
        "!pip install -q typing_extensions==4.8 numpy==1.26.2"
      ]
    },
    {
      "cell_type": "markdown",
      "metadata": {
        "id": "3CUs3azNXggv"
      },
      "source": [
        "## Step 2: Install XTTS Model\n",
        "\n",
        "- Install the required model files\n",
        "- Set env vars to the model file installation paths.\n",
        "\n",
        "_hint: You will need to Modify this step if using a custom XTTS model_"
      ]
    },
    {
      "cell_type": "code",
      "execution_count": null,
      "metadata": {
        "id": "08lnXVW3XqJ7"
      },
      "outputs": [],
      "source": [
        "import os\n",
        "\n",
        "# Define URLs (Modify if using a custom XTTS model)\n",
        "CHECKPOINT_URL = \"https://huggingface.co/coqui/XTTS-v2/resolve/main/model.pth\"\n",
        "CONFIG_URL = \"https://huggingface.co/coqui/XTTS-v2/resolve/main/config.json\"\n",
        "VOCAB_URL = \"https://huggingface.co/coqui/XTTS-v2/resolve/main/vocab.json\"\n",
        "SPEAKERS_XTTS_URL = \"https://huggingface.co/coqui/XTTS-v2/resolve/main/speakers_xtts.pth\"\n",
        "\n",
        "# Installation directory (Modify if you... want to for some reason :D)\n",
        "INSTALL_DIR = \"/tmp/xtts_speaker_forge/checkpoint\"\n",
        "\n",
        "# Ensure the installation directory exists\n",
        "if (os.path.exists(INSTALL_DIR)):\n",
        "  print(\"The installation directory already exists.\")\n",
        "else:\n",
        "  os.makedirs(INSTALL_DIR, exist_ok=True)\n",
        "\n",
        "checkpoint_path = os.path.join(INSTALL_DIR, \"model.pth\")\n",
        "config_path = os.path.join(INSTALL_DIR, \"config.json\")\n",
        "vocab_path = os.path.join(INSTALL_DIR, \"vocab.json\")\n",
        "speakers_xtts_path = os.path.join(INSTALL_DIR, \"speakers_xtts.pth\")\n",
        "\n",
        "def files_exist():\n",
        "  return (os.path.exists(checkpoint_path)\n",
        "    and os.path.exists(config_path)\n",
        "    and os.path.exists(vocab_path)\n",
        "    and os.path.exists(speakers_xtts_path))\n",
        "\n",
        "if files_exist() == False:\n",
        "  # Download files using shell commands\n",
        "  !wget {CHECKPOINT_URL} --directory-prefix={INSTALL_DIR}\n",
        "  !wget {CONFIG_URL} --directory-prefix={INSTALL_DIR}\n",
        "  !wget {VOCAB_URL} --directory-prefix={INSTALL_DIR}\n",
        "  !wget {SPEAKERS_XTTS_URL} --directory-prefix={INSTALL_DIR}\n",
        "\n",
        "\n",
        "# Set environment variables in Python\n",
        "os.environ['CHECKPOINT_DIR'] = INSTALL_DIR\n",
        "os.environ['CHECKPOINT_PATH'] = checkpoint_path\n",
        "os.environ['CONFIG_PATH'] = config_path\n",
        "os.environ['VOCAB_PATH'] = vocab_path\n",
        "os.environ['SPEAKERS_XTTS_PATH'] = speakers_xtts_path\n"
      ]
    },
    {
      "cell_type": "markdown",
      "metadata": {
        "id": "PAnzn41Cb_JZ"
      },
      "source": [
        "## Step 3: Validate Model Paths\n",
        "\n",
        "- Validate the file path references set up in step 2."
      ]
    },
    {
      "cell_type": "code",
      "execution_count": null,
      "metadata": {
        "id": "5TnO6GZHb93H"
      },
      "outputs": [],
      "source": [
        "# Validate the existence of files\n",
        "if (\n",
        "    os.path.exists(os.environ['CHECKPOINT_DIR']) and\n",
        "    os.path.exists(os.environ['CHECKPOINT_PATH']) and\n",
        "    os.path.exists(os.environ['CONFIG_PATH']) and\n",
        "    os.path.exists(os.environ['VOCAB_PATH']) and\n",
        "    os.path.exists(os.environ['SPEAKERS_XTTS_PATH'])\n",
        "):\n",
        "    print('El Barto says, \"Jackpot! Who knew you had the brains of Lisa and the skills of... well, me? Success, baby!\"')\n",
        "else:\n",
        "    print('El Barto says, \"Your paths are totally screwed man! This is a bigger disaster than Bartman vs. Radioactive Man, Issue #1.\"')\n"
      ]
    },
    {
      "cell_type": "markdown",
      "metadata": {
        "id": "U4JBfJP3XRR_"
      },
      "source": [
        "## Step 4: Launch the App!\n",
        "\n",
        "Assuming everthing has gone according to play a link should be displayed below when the Gradio app is ready.\n",
        "\n",
        "_hint: click the link :D_"
      ]
    },
    {
      "cell_type": "code",
      "execution_count": null,
      "metadata": {
        "id": "6gVSH6cPXr3T"
      },
      "outputs": [],
      "source": [
        "!bash ./xtts-speaker-forge/run_colab.sh"
      ]
    },
    {
      "cell_type": "markdown",
      "metadata": {
        "id": "gpD6VjiXwY2G"
      },
      "source": []
    }
  ],
  "metadata": {
    "accelerator": "GPU",
    "colab": {
      "gpuType": "V100",
      "provenance": [],
      "authorship_tag": "ABX9TyMBrTxbyKoT1ESjfYry10zl",
      "include_colab_link": true
    },
    "kernelspec": {
      "display_name": "Python 3",
      "name": "python3"
    },
    "language_info": {
      "name": "python"
    }
  },
  "nbformat": 4,
  "nbformat_minor": 0
}